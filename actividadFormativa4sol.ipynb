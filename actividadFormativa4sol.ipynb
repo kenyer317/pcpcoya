{
 "cells": [
  {
   "cell_type": "markdown",
   "id": "76b05779-0f11-4965-9d45-799b016d2cbb",
   "metadata": {},
   "source": [
    "# **Actividad Formativa IV**\n",
    "### Temario: Ciclos, funciones, estructuras complejas\n",
    "**Istrucciones:** \n",
    "1. Trabajo a dedarrollarse en parejas.\n",
    "2. Responder 5 de las siguientes 6 preguntas. La pregunta 1 es obligatoria.  \n",
    "     \n",
    "3. Se solicita escribir comentarios a su código para identificar los procesos aplicados en su solución.  \n",
    "     \n",
    "4.  En la solución de los problemas sólo se puede hacer uso de los aspectos teóricos tratados en clase, en ningún caso será válido un ejercicio resuelto con herramientas de programación no tratadas con anterioridad en el curso.  \n",
    "     \n",
    "5.  En cada ejercicio el profesor podrá solicitar que el estudiante aclare el desarrollo de la solución del problema, en caso de que el estudiente no pueda responder o aclarar los aspectos de su solución la pregunta se calificará con la mínima nota."
   ]
  },
  {
   "cell_type": "markdown",
   "id": "8fd4e636-04f0-4c55-a745-62dac6b5856c",
   "metadata": {},
   "source": [
    "## Pregunta 1\n",
    "A. Escriba una función **entPositivo()** que solicite al usuario un número entero y valide la entrada hasta que el usuario ingrese un entero positivo mayor que 1.\n",
    "\n",
    "B. Escriba una función **primo()** de un solo parámetro **num**, donde **num** es un número entero positivo mayor que 1, la función  retorna el valor True si el número es primo y False en caso contrario.  \n",
    "\n",
    "C. Escriba una función que guarde en una lista los números primos entres 2 y 1000 y los imprima en pantalla.\n"
   ]
  },
  {
   "cell_type": "code",
   "execution_count": 10,
   "id": "810cf6e8-2639-4d7a-a1ee-4b6455fdc1c8",
   "metadata": {},
   "outputs": [
    {
     "name": "stdout",
     "output_type": "stream",
     "text": [
      "2 3 5 7 11 13 17 19 23 29 31 37 41 43 47 53 59 61 67 71 73 79 83 89 97 101 103 107 109 113 127 131 137 139 149 151 157 163 167 173 179 181 191 193 197 199 211 223 227 229 233 239 241 251 257 263 269 271 277 281 283 293 307 311 313 317 331 337 347 349 353 359 367 373 379 383 389 397 401 409 419 421 431 433 439 443 449 457 461 463 467 479 487 491 499 503 509 521 523 541 547 557 563 569 571 577 587 593 599 601 607 613 617 619 631 641 643 647 653 659 661 673 677 683 691 701 709 719 727 733 739 743 751 757 761 769 773 787 797 809 811 821 823 827 829 839 853 857 859 863 877 881 883 887 907 911 919 929 937 941 947 953 967 971 977 983 991 997 "
     ]
    }
   ],
   "source": [
    "# Parte A\n",
    "def entPositivo():\n",
    "    num = int(input(\"Ingrese un número entero mayor que 1\"))\n",
    "    while num <= 1:\n",
    "        print(\"Error, intente de nuevo\")\n",
    "        num =int(input())\n",
    "    return num\n",
    "\n",
    "\n",
    "# Parte B\n",
    "\n",
    "def primo(num):\n",
    "    # Si el número es igual a dos es primo\n",
    "    if num == 2:\n",
    "        return True\n",
    "    else:\n",
    "        # En este caso vamos a verificar si num tiene un divisor menor que él y mayor que 1,\n",
    "        # en cuyo caso ya no es primo, caso contrario seria primo\n",
    "        for x in range(2, num):\n",
    "            if num % x == 0:\n",
    "                return False\n",
    "        return True\n",
    "\n",
    "# Parte C\n",
    "def lista_primos():\n",
    "    # Creamos la lista de los primos\n",
    "    lista = []\n",
    "    for x in range(2, 1001):\n",
    "        if primo(x) == True:\n",
    "            lista.append(x)\n",
    "    # Imprimimos la lista de los primos\n",
    "    for x in lista:\n",
    "        print(x, end = \" \")\n",
    "     \n",
    "lista_primos()"
   ]
  },
  {
   "cell_type": "markdown",
   "id": "3de59e10-5fe1-454b-8b9d-3754cdd7d7a3",
   "metadata": {},
   "source": [
    "## Pregunta 2 \n",
    "Escribir una función que calcule el área de un círculo y otra que\n",
    "calcule el volumen de un cilindro usando la primera función."
   ]
  },
  {
   "cell_type": "code",
   "execution_count": null,
   "id": "17d8f5be-e99c-4c0b-b1dd-0a37ff6692a6",
   "metadata": {},
   "outputs": [],
   "source": [
    "def area_circulo(radio):\n",
    "    PI = 3.14\n",
    "    area = PI*radio**2\n",
    "    return area\n",
    "\n",
    "def volumen(radio, altura):\n",
    "    vol = area_circulo(radio)*altura\n",
    "    return vol"
   ]
  },
  {
   "cell_type": "markdown",
   "id": "a8c1ec7b-e688-4fb5-abf9-e73c6c7abab5",
   "metadata": {},
   "source": [
    "## Pregunta 3\n",
    "Escribir un programa que reciba una cadena de caracteres y devuelva\n",
    "un diccionario con cada palabra que contiene y su frecuencia. Escribir otra función que reciba el diccionario generado con la función anterior y devuelva una tupla con la palabra más repetida y \n",
    "su frecuencia."
   ]
  },
  {
   "cell_type": "code",
   "execution_count": 9,
   "id": "b738d57c-5777-4040-a646-dc1f23217fee",
   "metadata": {},
   "outputs": [
    {
     "name": "stdout",
     "output_type": "stream",
     "text": [
      "{'mi': 1, 'bonita': 3, 'mamá': 3, 'de': 1, 'y': 1, 'vida': 1, 'ella': 1, 'es': 3, 'la': 2, 'una': 1}\n",
      "[('bonita', 3), ('mamá', 3), ('es', 3)]\n"
     ]
    }
   ],
   "source": [
    "def frecuencia(cadena):\n",
    "    # Creamos otra cadena igual a la primero pero sin los puntos ni comas y la pasasmos a\n",
    "    # minusculas\n",
    "    cadena = cadena.replace(',', \"\").replace('.', \"\").lower()\n",
    "    # Creamos la lista de palabras de la cadena\n",
    "    lista_palabras = cadena.split(\" \")\n",
    "    # Eliminamos las palabras repetidas convirtiendo la lista palabras a conjunto\n",
    "    conjunto_palabras = set(lista_palabras)\n",
    "    # Contamos ahora cuantas veces aparece cada palabra en la cadena y creamos el diccionario\n",
    "    # asignandole a cada palabra su frecuencia\n",
    "    dict ={x:lista_palabras.count(x) for x in conjunto_palabras}\n",
    "    return dict\n",
    "\n",
    "def tuplas_de_frecuencia(dict):\n",
    "    # Calculamos la mayor frecuencia\n",
    "    mayor_frecuencia = max(dict.values())\n",
    "    # creamos la lista de tuplas con las palabras que tienen las frecuencia mayor_frecuencia\n",
    "    lista_frecuencia = [(x, mayor_frecuencia) for x in dict.keys() if dict[x] == mayor_frecuencia]\n",
    "    return lista_frecuencia\n",
    "\n",
    "# Probando\n",
    "cadena = \"la mamá de mi mamá es una bonita mamá, bonita es la vida y bonita es ella...\"\n",
    "\n",
    "print(frecuencia(cadena))\n",
    "print(tuplas_de_frecuencia(frecuencia(cadena)))\n",
    "\n"
   ]
  },
  {
   "cell_type": "markdown",
   "id": "c8309271-5749-4a8e-8aeb-eed1ac48f52d",
   "metadata": {},
   "source": [
    "## Pregunta 4\n",
    "Escribir un programa que guarde en una variable el diccionario {'Euro':'€', 'Dollar':'$', 'Yen':'¥'}, pregunte al usuario por una divisa y muestre su símbolo o un mensaje de aviso si la divisa no está en el diccionario."
   ]
  },
  {
   "cell_type": "code",
   "execution_count": 14,
   "id": "18bf526f-7a5c-49d1-8a18-0f52b428dde1",
   "metadata": {},
   "outputs": [
    {
     "name": "stdout",
     "output_type": "stream",
     "text": [
      "La divisa no esté en el diccionario\n"
     ]
    }
   ],
   "source": [
    "dict = {'Euro':'€', 'Dollar':'$', 'Yen':'¥'}\n",
    "\n",
    "divisa = input(\"Ingresa una divisa\").title()\n",
    "\n",
    "if divisa in dict:\n",
    "    print(dict[divisa])\n",
    "else:\n",
    "    print(\"La divisa no esté en el diccionario\")\n",
    " "
   ]
  },
  {
   "cell_type": "markdown",
   "id": "cb80aa92-d1d6-42e5-8808-daaade797fcb",
   "metadata": {},
   "source": [
    "## Pregunta 5\n",
    "Escribir un programa que guarde en un diccionario los precios de las frutas de la tabla, pregunte al usuario por una fruta, un número de kilos y muestre por pantalla el precio de ese número de kilos de fruta. Si la fruta no está en el diccionario debe mostrar un mensaje informando de ello.\n",
    "| Fruta | Precio|\n",
    "|:-|:-:|\n",
    "|Plátano | 1.35 |\n",
    "|Manzana | 0.80|\n",
    "|Pera| 0.85|\n",
    "|Naranja | 0.70|\n"
   ]
  },
  {
   "cell_type": "code",
   "execution_count": 18,
   "id": "04dcb0bc-6e56-4b65-bb01-9562a83789b2",
   "metadata": {},
   "outputs": [
    {
     "name": "stdout",
     "output_type": "stream",
     "text": [
      "La fruta no esta en la lista. Intente de nuevo\n",
      "La fruta no esta en la lista. Intente de nuevo\n"
     ]
    },
    {
     "data": {
      "text/plain": [
       "13.5"
      ]
     },
     "execution_count": 18,
     "metadata": {},
     "output_type": "execute_result"
    }
   ],
   "source": [
    "dic = {\"Plátano\":1.35,\n",
    "       \"Manzana\": 0.80,\n",
    "       \"Pera\": 0.85,\n",
    "       \"Naranja\":0.70}\n",
    "def total_a_pagar():\n",
    "    fruta = input(\"Ingrese la fruta\").title()\n",
    "    while True:\n",
    "       if fruta not in dic:\n",
    "           print(\"La fruta no esta en la lista. Intente de nuevo\")\n",
    "           fruta = input()\n",
    "       else: \n",
    "           break\n",
    "    while True:\n",
    "        kilos_fruta = float(input(\"Ingrese los kilos de fruta\"))\n",
    "        if kilos_fruta > 0:\n",
    "            break\n",
    "    precio = kilos_fruta*dic[fruta] \n",
    "    return precio\n",
    "total_a_pagar()"
   ]
  },
  {
   "cell_type": "markdown",
   "id": "8a561efe-eb22-4674-9a75-893503f11977",
   "metadata": {},
   "source": [
    "# Pregunta 6\n",
    "Escribir un programa que cree un diccionario vacío y lo vaya llenado con información sobre una persona (por ejemplo nombre, edad, sexo, teléfono, correo electrónico, etc.) que se le pida al usuario. Cada vez que se añada un nuevo dato debe imprimirse el contenido del diccionario."
   ]
  },
  {
   "cell_type": "code",
   "execution_count": 2,
   "id": "9a8ee802-4e0b-4802-b3a0-09b976c823fe",
   "metadata": {},
   "outputs": [
    {
     "name": "stdout",
     "output_type": "stream",
     "text": [
      "Ingrese su edad\n",
      " Sus datos son: \n",
      "{'edad': '12'}\n",
      "Ingrese s para continuar, otra tecla para salir\n",
      "Ingrese su nombre\n",
      " Sus datos son: \n",
      "{'edad': '12', 'nombre': 'kenyer'}\n",
      "Ingrese s para continuar, otra tecla para salir\n"
     ]
    }
   ],
   "source": [
    "datos_personales = {}\n",
    "dato = input(\"Ingrese el primer dato\")\n",
    "while True:\n",
    "    print(\"Ingrese su\", dato)\n",
    "    valor = input()\n",
    "    datos_personales[dato] = valor\n",
    "    print(\" Sus datos son: \")\n",
    "    print(datos_personales)\n",
    "    print(\"Ingrese s para continuar, otra tecla para salir\")\n",
    "    opcion = input()\n",
    "    if opcion != \"s\" and opcion != \"S\":\n",
    "        print(\"Gracias!!\")\n",
    "        break\n",
    "    else:\n",
    "        dato = input(\"Ingrese próximo dato\")\n",
    "    "
   ]
  }
 ],
 "metadata": {
  "kernelspec": {
   "display_name": "base",
   "language": "python",
   "name": "python3"
  },
  "language_info": {
   "codemirror_mode": {
    "name": "ipython",
    "version": 3
   },
   "file_extension": ".py",
   "mimetype": "text/x-python",
   "name": "python",
   "nbconvert_exporter": "python",
   "pygments_lexer": "ipython3",
   "version": "3.11.7"
  }
 },
 "nbformat": 4,
 "nbformat_minor": 5
}
