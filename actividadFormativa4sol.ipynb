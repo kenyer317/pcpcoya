{
 "cells": [
  {
   "cell_type": "markdown",
   "id": "76b05779-0f11-4965-9d45-799b016d2cbb",
   "metadata": {},
   "source": [
    "# **Actividad Formativa IV**\n",
    "### Temario: Ciclos, funciones, estructuras complejas\n",
    "**Istrucciones:** \n",
    "1. Trabajo a dedarrollarse en parejas.\n",
    "2. Responder 5 de las siguientes 6 preguntas. La pregunta 1 es obligatoria.  \n",
    "     \n",
    "3. Se solicita escribir comentarios a su código para identificar los procesos aplicados en su solución.  \n",
    "     \n",
    "4.  En la solución de los problemas sólo se puede hacer uso de los aspectos teóricos tratados en clase, en ningún caso será válido un ejercicio resuelto con herramientas de programación no tratadas con anterioridad en el curso.  \n",
    "     \n",
    "5.  En cada ejercicio el profesor podrá solicitar que el estudiante aclare el desarrollo de la solución del problema, en caso de que el estudiente no pueda responder o aclarar los aspectos de su solución la pregunta se calificará con la mínima nota."
   ]
  },
  {
   "cell_type": "markdown",
   "id": "8fd4e636-04f0-4c55-a745-62dac6b5856c",
   "metadata": {},
   "source": [
    "## Pregunta 1\n",
    "A. Escriba una función **entPositivo()** de un solo paramétro **n** que solicite al usuario un número entero y valide la entrada hasta que el usuario ingrese un entero positivo mayor que 1.\n",
    "\n",
    "B. Escriba una función **primo()** de un solo parámetro **num**, donde **num** es un número entero positivo mayor que 1, la función  retorna el valor True si el número es primo y False en caso contrario.  \n",
    "\n",
    "C. Escriba una función que guarde en una lista los números primos entres 2 y 1000 y los imprima en pantalla.\n"
   ]
  },
  {
   "cell_type": "code",
   "execution_count": null,
   "id": "810cf6e8-2639-4d7a-a1ee-4b6455fdc1c8",
   "metadata": {},
   "outputs": [],
   "source": []
  },
  {
   "cell_type": "markdown",
   "id": "3de59e10-5fe1-454b-8b9d-3754cdd7d7a3",
   "metadata": {},
   "source": [
    "## Pregunta 2 \n",
    "Escribir una función que calcule el área de un círculo y otra que\n",
    "calcule el volumen de un cilindro usando la primera función."
   ]
  },
  {
   "cell_type": "code",
   "execution_count": null,
   "id": "17d8f5be-e99c-4c0b-b1dd-0a37ff6692a6",
   "metadata": {},
   "outputs": [],
   "source": []
  },
  {
   "cell_type": "markdown",
   "id": "a8c1ec7b-e688-4fb5-abf9-e73c6c7abab5",
   "metadata": {},
   "source": [
    "## Pregunta 3\n",
    "Escribir un programa que reciba una cadena de caracteres y devuelva\n",
    "un diccionario con cada palabra que contiene y su frecuencia. Escribir otra función que reciba el diccionario generado con la función anterior y devuelva una tupla con la palabra más repetida y \n",
    "su frecuencia."
   ]
  },
  {
   "cell_type": "code",
   "execution_count": null,
   "id": "b738d57c-5777-4040-a646-dc1f23217fee",
   "metadata": {},
   "outputs": [],
   "source": []
  },
  {
   "cell_type": "markdown",
   "id": "c8309271-5749-4a8e-8aeb-eed1ac48f52d",
   "metadata": {},
   "source": [
    "## Pregunta 4\n",
    "Escribir un programa que guarde en una variable el diccionario {'Euro':'€', 'Dollar':'$', 'Yen':'¥'}, pregunte al usuario por una divisa y muestre su símbolo o un mensaje de aviso si la divisa no está en el diccionario."
   ]
  },
  {
   "cell_type": "code",
   "execution_count": null,
   "id": "18bf526f-7a5c-49d1-8a18-0f52b428dde1",
   "metadata": {},
   "outputs": [],
   "source": []
  },
  {
   "cell_type": "markdown",
   "id": "cb80aa92-d1d6-42e5-8808-daaade797fcb",
   "metadata": {},
   "source": [
    "## Pregunta 5\n",
    "Escribir un programa que guarde en un diccionario los precios de las frutas de la tabla, pregunte al usuario por una fruta, un número de kilos y muestre por pantalla el precio de ese número de kilos de fruta. Si la fruta no está en el diccionario debe mostrar un mensaje informando de ello.\n",
    "| Fruta | Precio|\r\n",
    "|:-|:-:|\r\n",
    "|Plátano | 1.35 |\r\n",
    "|Manzana | 0.80|\r\n",
    "|Pera| 0.85|\r\n",
    "|Naranja | 0.70|\r\n"
   ]
  },
  {
   "cell_type": "code",
   "execution_count": null,
   "id": "04dcb0bc-6e56-4b65-bb01-9562a83789b2",
   "metadata": {},
   "outputs": [],
   "source": []
  },
  {
   "cell_type": "markdown",
   "id": "8a561efe-eb22-4674-9a75-893503f11977",
   "metadata": {},
   "source": [
    "# Pregunta 6\n",
    "Escribir un programa que cree un diccionario vacío y lo vaya llenado con información sobre una persona (por ejemplo nombre, edad, sexo, teléfono, correo electrónico, etc.) que se le pida al usuario. Cada vez que se añada un nuevo dato debe imprimirse el contenido del diccionario."
   ]
  },
  {
   "cell_type": "code",
   "execution_count": null,
   "id": "9a8ee802-4e0b-4802-b3a0-09b976c823fe",
   "metadata": {},
   "outputs": [],
   "source": []
  }
 ],
 "metadata": {
  "kernelspec": {
   "display_name": "anaconda-2024.02-py310",
   "language": "python",
   "name": "conda-env-anaconda-2024.02-py310-py"
  },
  "language_info": {
   "codemirror_mode": {
    "name": "ipython",
    "version": 3
   },
   "file_extension": ".py",
   "mimetype": "text/x-python",
   "name": "python",
   "nbconvert_exporter": "python",
   "pygments_lexer": "ipython3",
   "version": "3.10.14"
  }
 },
 "nbformat": 4,
 "nbformat_minor": 5
}
