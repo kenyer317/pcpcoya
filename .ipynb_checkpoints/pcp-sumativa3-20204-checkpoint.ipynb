{
 "cells": [
  {
   "cell_type": "markdown",
   "metadata": {},
   "source": [
    "### Pregunta 1\n",
    "Escriba un programa que solicite al usuario $\\mathbf{n}$ números reales. El programa debe realizar las siguientes acciones:  \n",
    "\n",
    "1. Solicitar el valor $\\mathbf{n}$ al usuario. Suponga que el usuario siempre proporciona un número entero positivo. **(1 pt)**  \n",
    "\n",
    "2. Calcular la suma de los números ingresados. **(2 pts)**  \n",
    "   \n",
    "3. Calcular promedio de los números ingresados. **(1 pto)**  \n",
    "   \n",
    "4. Calcular la cantidad de números positivos ingresados. **(2 pts)**\n",
    "       \n",
    "5. Calcular la cantidad de números negativos ingresados. **(2 pts)**  \n",
    "   \n",
    "6. Calcular la cantidad de ceros ingresados. **(1 pt)**  \n",
    "   \n",
    "7. Mostrar todos los resultados en pantalla. **(1 pt)**\n",
    "    "
   ]
  },
  {
   "cell_type": "markdown",
   "metadata": {},
   "source": [
    "### Pregunta 2\n",
    "Se solicita un programa que que calcule la siguiente suma\n",
    "\\begin{equation*}\n",
    "    \\binom{10}{1}+\\binom{10}{2}+\\binom{10}{3}+\\cdots+\\binom{10}{9}+ \\binom{10}{10}.\n",
    "\\end{equation*}\n",
    "Para hallar la suma, se deben seguir los siguientes pasos:\n",
    "1. Definir una función **factorial( )** que reciba un número entero positivo $\\mathbf{n}$ retorne su factorial. **(2 pts)**\n",
    "\n",
    "  Recuerde que el factorial de un número entero positivo $\\mathbf{n}$, se denota por $\\mathbf{n!}$ y define como\n",
    "\n",
    "\\begin{equation*}\n",
    "    \\mathbf{n! = n(n-1)\\cdots 2\\cdot 1}.\n",
    "\\end{equation*}\n",
    "\n",
    "2.  Usar la función anterior para definir una función **combinatorio( )** que reciba dos números enteros positivos $\\mathbf{n, m}$ y que retorne el número combinatorio $\\mathbf{\\dbinom{n}{m}}$. **(3 pts)**\n",
    "    \n",
    "Recuerde que \n",
    "$$\\dbinom{n}{m} = \\frac{n!}{n!(n-m)!}, \\text{ para  } n > m $$\n",
    "\n",
    "3.  En el algoritmo principal llamar a la función combinatorio y usar un ciclo para calcular la suma propuesta. **(3 pts)** \n",
    "\n",
    "4. Mostrar el resultado en pantalla con un mensaje apropiado. **(2 pts)**\n",
    "     \n"
   ]
  },
  {
   "cell_type": "markdown",
   "metadata": {},
   "source": [
    "### Pregunta 3\n",
    "En el plano $\\mathbb{R}^2$, la **norma** $||\\vec{a}||$ de un vector \n",
    "$\\vec{a} =  (a_1, a_2)$ se define por\n",
    "\\begin{equation*}\n",
    "    ||\\vec{a}|| = \\sqrt{a_1^2+a_2^2}.\n",
    "\\end{equation*}\n",
    "Dado dos vectores $\\vec{a}= (a_1, a_2), \\vec{b}=(b_1, b_2)$, se define su **producto escalar**  $\\vec{a}\\cdot\\vec{b}$ de la siguiente manera:\n",
    "\\begin{equation*}\n",
    "    \\vec{a}\\cdot \\vec{b} = a_1\\cdot b_1+ a_2\\cdot b_2.\n",
    "\\end{equation*}\n",
    "Tomando en cuenta la información anterior, se solicita diseñar un programa que realice las siguientes acciones:\n",
    "1. Solicite al usuario las coordenadas de dos vectores. **(2 pts)**\n",
    "     \n",
    "2. Definir una función de nombre **prodEsc( )** que reciba las coordenadas de dos vectores y retorne su producto escalar. **(3 pt)**\n",
    "    \n",
    "3. Definir una función de nombre **norma( )** que reciba las coordenadas de un vector y retorne su norma. **(3 pts)**\n",
    "   \n",
    "4. En el algoritmo principal de deben llamar las funciones anteriores y mostrar en pantalla: el producto escalar de los vectores solicitados al usuario, así como la norma de cada uno de ellos. **(2 pts)**\n",
    "\n",
    "        "
   ]
  },
  {
   "cell_type": "markdown",
   "metadata": {},
   "source": [
    "### Pregunta 4\n",
    "Escribir un programa que realice las siguientes acciones:\n",
    "        \n",
    "1. Solicitar al usuario un número entero positivo (no se necesita validación). **(2 pts)**\n",
    "   \n",
    "2. Determine la cantidad de números primos menores que $\\mathbf{n}$. **(3 pts)**\n",
    "\n",
    "3. Determine todos los números primos menores que $\\mathbf{n}$ y los guarde en una lista de nombre **primos**. **(3 pts)**\n",
    "\n",
    "4. Finalmente debe imprimir los elementos de la lista **primos**. **(2 pts)**\n",
    "        \n"
   ]
  }
 ],
 "metadata": {
  "kernelspec": {
   "display_name": "Python 3 (ipykernel)",
   "language": "python",
   "name": "python3"
  },
  "language_info": {
   "codemirror_mode": {
    "name": "ipython",
    "version": 3
   },
   "file_extension": ".py",
   "mimetype": "text/x-python",
   "name": "python",
   "nbconvert_exporter": "python",
   "pygments_lexer": "ipython3",
   "version": "3.11.7"
  }
 },
 "nbformat": 4,
 "nbformat_minor": 4
}
